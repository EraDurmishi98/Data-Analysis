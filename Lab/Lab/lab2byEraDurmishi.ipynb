{
 "cells": [
  {
   "cell_type": "code",
   "execution_count": null,
   "metadata": {},
   "outputs": [],
   "source": [
    "numbers = [50, 20, 10, 80, 10]\n",
    "print(numbers)\n",
    "print(numbers[2])\n",
    "\n",
    "max_value = max(numbers)\n",
    "max_index = numbers.index(max_value)\n",
    "print('max =', max_value)\n",
    "print(max_index)\n",
    "\n",
    "min_value = min(numbers)\n",
    "min_index = numbers.index(min_value)\n",
    "print('min =', min_value)\n",
    "print(min_index)\n",
    "\n",
    "print('length =', len(numbers))\n",
    "print('Element =', numbers[len(numbers)-1])\n",
    "    "
   ]
  },
  {
   "cell_type": "code",
   "execution_count": null,
   "metadata": {},
   "outputs": [],
   "source": [
    "names = ['Steven', 'Will', 'Alicia']\n",
    "print (names)\n",
    "\n",
    "print ('--')\n",
    "for name in names:\n",
    "    print (name)\n",
    "    \n",
    "print ('--')\n",
    "index = 2\n",
    "while index < len(names):\n",
    "    print (names[index])\n",
    "    index += 1\n",
    "    \n",
    "    "
   ]
  },
  {
   "cell_type": "code",
   "execution_count": null,
   "metadata": {},
   "outputs": [],
   "source": [
    "numbers = list (range (0,101,10))\n",
    "print (numbers)\n",
    "\n",
    "print (numbers[:5])\n",
    "print (numbers[2:5])\n",
    "print (numbers[7:])\n",
    "print (numbers[-3:])"
   ]
  },
  {
   "cell_type": "code",
   "execution_count": null,
   "metadata": {},
   "outputs": [],
   "source": [
    "cities = ['Chicago', 'Paris']\n",
    "print (cities)\n",
    "\n",
    "city_index = cities.index('Paris')\n",
    "print (city_index)\n",
    "\n",
    "cities.insert (1, 'New York')\n",
    "print (cities)\n",
    "\n",
    "cities.reverse()\n",
    "print (cities)\n",
    "\n",
    "cities.sort()\n",
    "print (cities)\n",
    "\n",
    "cities.remove ('New York')\n",
    "print (cities)\n",
    "\n"
   ]
  },
  {
   "cell_type": "code",
   "execution_count": null,
   "metadata": {},
   "outputs": [],
   "source": [
    "num1 = list(range(0,20,  5))\n",
    "print(num1)\n",
    "\n",
    "num2 = num1 * 3\n",
    "print(num2)\n",
    "\n",
    "index = 0\n",
    "while index < len(num1):\n",
    "    num1[index] = num1[index]*3\n",
    "    index +=1\n",
    "print(num1)\n",
    "\n",
    "print(sum(num1))\n",
    "print(sum(num1)/len(num1))\n"
   ]
  },
  {
   "cell_type": "markdown",
   "metadata": {},
   "source": []
  },
  {
   "cell_type": "raw",
   "metadata": {},
   "source": []
  },
  {
   "cell_type": "code",
   "execution_count": 1,
   "metadata": {},
   "outputs": [
    {
     "name": "stdout",
     "output_type": "stream",
     "text": [
      "enter the sales forSunday: 12\n",
      "enter the sales forMonday: 54\n",
      "enter the sales forTuesday: 21\n",
      "enter the sales forWednesday: 15314\n",
      "enter the sales forThursday: 35.1\n",
      "enter the sales forFriday: 521\n",
      "enter the sales forSaturday: 21\n",
      "Weekly Sales\n",
      "----------\n",
      "Sunday :$ 12.00\n",
      "Monday :$ 54.00\n",
      "Tuesday :$ 21.00\n",
      "Wednesday :$ 15,314.00\n",
      "Thursday :$ 35.10\n",
      "Friday :$ 521.00\n",
      "Saturday :$ 21.00\n",
      "weekly sales summary\n",
      "-----\n",
      "Total sales : $ 15,978.10\n",
      "Average sales : $ 2,282.59\n",
      "The highest sales is in Wednesday  :$ 15,314.00\n",
      "The lowest sales is in Sunday  :$ 12.00\n"
     ]
    }
   ],
   "source": [
    "#Write a program that asks the user to enter a store’s sales for each day of the week. \n",
    "\n",
    "total_sales = 0.0\n",
    "DAYS = 7\n",
    "\n",
    "\n",
    "#initialize lists\n",
    "daily_sales = [0.0]* DAYS\n",
    "days_of_week = ['Sunday', 'Monday', 'Tuesday', 'Wednesday',\n",
    "                'Thursday', 'Friday', 'Saturday']\n",
    "\n",
    "\n",
    "\n",
    "for i in range (7):\n",
    "    daily_sales[i]= float (input ('enter the sales for' + days_of_week[i] + ': '))\n",
    "\n",
    "\n",
    "print ('Weekly Sales')\n",
    "print ('----------')\n",
    "\n",
    "\n",
    "for index in range (7):\n",
    "    print (days_of_week [index], ':$', format(daily_sales[index], ',.2f'))\n",
    "    \n",
    "    \n",
    "for number in daily_sales:\n",
    "    total_sales +=number\n",
    "    \n",
    "highest = max(daily_sales)\n",
    "max_index = daily_sales.index(highest)\n",
    "\n",
    "lowest = min(daily_sales)\n",
    "min_index = daily_sales.index(lowest)\n",
    "\n",
    "avg_sales = sum(daily_sales)/len(daily_sales)\n",
    "\n",
    "\n",
    "#display weekly sales Summary\n",
    "\n",
    "print ('weekly sales summary')\n",
    "print ('-----')\n",
    "print ('Total sales : $', format(total_sales,',.2f'))\n",
    "print ('Average sales : $', format(avg_sales,',.2f'))   \n",
    "print ('The highest sales is in', days_of_week[max_index],' :$', format (highest,',.2f') )\n",
    "print ('The lowest sales is in', days_of_week[min_index],' :$', format (lowest,',.2f') )\n",
    "\n",
    "\n",
    "\n"
   ]
  },
  {
   "cell_type": "code",
   "execution_count": null,
   "metadata": {},
   "outputs": [],
   "source": []
  },
  {
   "cell_type": "code",
   "execution_count": null,
   "metadata": {},
   "outputs": [],
   "source": []
  }
 ],
 "metadata": {
  "kernelspec": {
   "display_name": "Python 3",
   "language": "python",
   "name": "python3"
  },
  "language_info": {
   "codemirror_mode": {
    "name": "ipython",
    "version": 3
   },
   "file_extension": ".py",
   "mimetype": "text/x-python",
   "name": "python",
   "nbconvert_exporter": "python",
   "pygments_lexer": "ipython3",
   "version": "3.7.6"
  }
 },
 "nbformat": 4,
 "nbformat_minor": 4
}
