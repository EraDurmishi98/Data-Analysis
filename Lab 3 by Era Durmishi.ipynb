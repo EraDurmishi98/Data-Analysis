{
 "cells": [
  {
   "cell_type": "code",
   "execution_count": null,
   "metadata": {},
   "outputs": [],
   "source": [
    "# Lab03 Numpy Basics"
   ]
  },
  {
   "cell_type": "code",
   "execution_count": 3,
   "metadata": {},
   "outputs": [
    {
     "name": "stdout",
     "output_type": "stream",
     "text": [
      "[ 0  1  2  3  4  5  6  7  8  9 10 11]\n"
     ]
    }
   ],
   "source": [
    "# NumPy Basics\n",
    "import numpy as np\n",
    "\n",
    "s = np.arange(12)\n",
    "print(s)"
   ]
  },
  {
   "cell_type": "code",
   "execution_count": 5,
   "metadata": {},
   "outputs": [
    {
     "name": "stdout",
     "output_type": "stream",
     "text": [
      "[ 0  1  2  3  4  5  6  7  8  9 10 11]\n",
      "2\n",
      "11\n"
     ]
    }
   ],
   "source": [
    "import numpy as np\n",
    "\n",
    "s = np.arange(12)\n",
    "print(s)\n",
    "\n",
    "# 3) Show the third element of s\n",
    "\n",
    "print (s[2])\n",
    "\n",
    "\n",
    "# Show the last element of s\n",
    "\n",
    "print (s[-1])\n",
    "\n",
    "\n"
   ]
  },
  {
   "cell_type": "code",
   "execution_count": 8,
   "metadata": {},
   "outputs": [
    {
     "name": "stdout",
     "output_type": "stream",
     "text": [
      "[ 0  1  2  3  4  5  6  7  8  9 10 11]\n",
      "[ 2  3  4  5  6  7  8  9 10 11]\n",
      "[2 3 4 5 6]\n"
     ]
    }
   ],
   "source": [
    "import numpy as np\n",
    "\n",
    "s = np.arange(12)\n",
    "print(s)\n",
    "\n",
    "# 3) Show the third to last element of s\n",
    "\n",
    "print (s[2:])\n",
    "\n",
    "\n",
    "# Show the third to seventh element of s\n",
    "\n",
    "print (s[2:7])\n",
    "\n"
   ]
  },
  {
   "cell_type": "code",
   "execution_count": null,
   "metadata": {},
   "outputs": [],
   "source": []
  },
  {
   "cell_type": "code",
   "execution_count": 14,
   "metadata": {},
   "outputs": [
    {
     "name": "stdout",
     "output_type": "stream",
     "text": [
      "[ 0  1  2  3  4  5  6  7  8  9 10 11]\n",
      "66\n",
      "0\n",
      "5.5\n",
      "11\n"
     ]
    }
   ],
   "source": [
    "import numpy as np\n",
    "\n",
    "s = np.arange(12)\n",
    "print(s)\n",
    "\n",
    "\n",
    "# 4) Show the total of s\n",
    "print (np.sum(s))\n",
    "\n",
    "\n",
    "# Show the smallest value of s\n",
    "print (np.min(s))\n",
    "\n",
    "# Show the average value of s\n",
    "print (np.mean(s))\n",
    "\n",
    "# Show the smallest value of s\n",
    "print (np.max(s))"
   ]
  },
  {
   "cell_type": "code",
   "execution_count": 17,
   "metadata": {},
   "outputs": [
    {
     "name": "stdout",
     "output_type": "stream",
     "text": [
      "[ 0 -1  2  3  4  5  6  7  8  9 10 11]\n",
      "[ 0 -1  2  3  4  5  6  7  8  9 10 11]\n"
     ]
    }
   ],
   "source": [
    "# 5) if array change values, will s change values too? why?\n",
    "# show s values\n",
    "\n",
    "arry = s\n",
    "arry[1]= -1\n",
    "print(s)\n",
    "print(arry)\n"
   ]
  },
  {
   "cell_type": "code",
   "execution_count": 18,
   "metadata": {},
   "outputs": [
    {
     "name": "stdout",
     "output_type": "stream",
     "text": [
      "[[1, 2, 3], [4, 5, 6], [7, 8, 9]]\n"
     ]
    }
   ],
   "source": [
    "data = [[1,2,3],\n",
    "        [4,5,6],\n",
    "        [7,8,9]]\n",
    "print(data)"
   ]
  },
  {
   "cell_type": "code",
   "execution_count": 21,
   "metadata": {},
   "outputs": [
    {
     "name": "stdout",
     "output_type": "stream",
     "text": [
      "[[1 2 3]\n",
      " [4 5 6]\n",
      " [7 8 9]]\n"
     ]
    }
   ],
   "source": [
    "matrix = np.array(data)\n",
    "print(matrix)"
   ]
  },
  {
   "cell_type": "code",
   "execution_count": 23,
   "metadata": {},
   "outputs": [
    {
     "name": "stdout",
     "output_type": "stream",
     "text": [
      "2\n",
      "4\n"
     ]
    }
   ],
   "source": [
    "# 6)Show the element of first row of second col of matrix\n",
    "\n",
    "print (matrix[0,1])\n",
    "\n",
    "# 6)Show the element of second row of first col of matrix\n",
    "\n",
    "print (matrix[1,0])"
   ]
  },
  {
   "cell_type": "code",
   "execution_count": 32,
   "metadata": {},
   "outputs": [
    {
     "name": "stdout",
     "output_type": "stream",
     "text": [
      "[[1 2 3]\n",
      " [4 5 6]\n",
      " [7 8 9]]\n",
      "--------\n",
      "[1 2 3]\n",
      "--------\n",
      "[4 5 6]\n",
      "--------\n",
      "[7 8 9]\n",
      "--------\n"
     ]
    }
   ],
   "source": [
    "print (matrix)\n",
    "print (\"--------\")\n",
    "\n",
    "# 7 )Show all elements of first row in matrix\n",
    "\n",
    "print (matrix[0])\n",
    "print (\"--------\")\n",
    "\n",
    "#  Show all elements of second row in matrix\n",
    "\n",
    "print (matrix[1])\n",
    "print (\"--------\")\n",
    "\n",
    "# Show all elements of last row in matrix\n",
    "\n",
    "\n",
    "print (matrix[-1])\n",
    "print (\"--------\")\n"
   ]
  },
  {
   "cell_type": "code",
   "execution_count": 35,
   "metadata": {},
   "outputs": [
    {
     "name": "stdout",
     "output_type": "stream",
     "text": [
      "[[1 2 3]\n",
      " [4 5 6]\n",
      " [7 8 9]]\n",
      "--------\n",
      "[1 4 7]\n",
      "--------\n",
      "[2 5 8]\n",
      "--------\n",
      "[3 6 9]\n",
      "--------\n"
     ]
    }
   ],
   "source": [
    "print (matrix)\n",
    "print (\"--------\")\n",
    "\n",
    "# 8) Show all elements of first col in matrix\n",
    "print (matrix[:,0])\n",
    "print (\"--------\")\n",
    "\n",
    "\n",
    "\n",
    "# Show all elements of third col in matrix\n",
    "\n",
    "print (matrix[:,1])\n",
    "print (\"--------\")\n",
    "\n",
    "\n",
    "\n",
    "# Show all elements of last col in matrix\n",
    "print (matrix[:,-1])\n",
    "print (\"--------\")\n",
    "\n"
   ]
  },
  {
   "cell_type": "code",
   "execution_count": 36,
   "metadata": {},
   "outputs": [
    {
     "name": "stdout",
     "output_type": "stream",
     "text": [
      "[[1 2 3]\n",
      " [4 5 6]\n",
      " [7 8 9]]\n",
      "[5 6]\n",
      "--------\n"
     ]
    }
   ],
   "source": [
    "print( matrix)\n",
    "# Show second rows, and second col to last col's elements in matrix\n",
    "\n",
    "\n",
    "print (matrix[1, 1:])\n",
    "print (\"--------\")\n"
   ]
  },
  {
   "cell_type": "code",
   "execution_count": 48,
   "metadata": {},
   "outputs": [
    {
     "name": "stdout",
     "output_type": "stream",
     "text": [
      "[[1 2 3]\n",
      " [4 5 6]\n",
      " [7 8 9]]\n",
      "--------\n",
      "[12 15 18]\n",
      "--------\n",
      "1\n",
      "1\n",
      "--------\n",
      "5.0\n",
      "5.0\n",
      "--------\n",
      "9\n",
      "9\n",
      "--------\n",
      "15\n",
      "15\n",
      "--------\n"
     ]
    }
   ],
   "source": [
    "print(matrix)\n",
    "print (\"--------\")\n",
    "\n",
    "\n",
    "# 5) Show the total of s\n",
    "\n",
    "print (sum(matrix))\n",
    "print (\"--------\")\n",
    "\n",
    "\n",
    "# Show the smallest value of s\n",
    "\n",
    "print (matrix.min())\n",
    "print (np.min(matrix))\n",
    "print (\"--------\")\n",
    "\n",
    "\n",
    "# Show the average value of s\n",
    "\n",
    "print (matrix.mean())\n",
    "print (np.mean(matrix))\n",
    "print (\"--------\")\n",
    "\n",
    "\n",
    "#show the largest values of matrix\n",
    "\n",
    "\n",
    "print (matrix.max())\n",
    "print (np.max(matrix))\n",
    "print (\"--------\")\n",
    "\n",
    "\n",
    "\n",
    "# The sum of second col\n",
    "print(matrix [:,1].sum())\n",
    "print (np.sum(matrix [:,1]))\n",
    "print (\"--------\")\n"
   ]
  },
  {
   "cell_type": "code",
   "execution_count": null,
   "metadata": {},
   "outputs": [],
   "source": []
  }
 ],
 "metadata": {
  "kernelspec": {
   "display_name": "Python 3",
   "language": "python",
   "name": "python3"
  }
 },
 "nbformat": 4,
 "nbformat_minor": 2
}
